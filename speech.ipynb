{
 "cells": [
  {
   "cell_type": "markdown",
   "metadata": {},
   "source": [
    "This simple notebook listens to a customer wanted product and tells where in the store the item is located."
   ]
  },
  {
   "cell_type": "code",
   "execution_count": null,
   "metadata": {
    "collapsed": true
   },
   "outputs": [],
   "source": [
    "import speech_recognition as sr\n",
    "import time\n",
    "import pandas as pd\n",
    "import numpy as np"
   ]
  },
  {
   "cell_type": "markdown",
   "metadata": {},
   "source": [
    "For the store we use the InstaKart database, which can be found here []()"
   ]
  },
  {
   "cell_type": "code",
   "execution_count": 3,
   "metadata": {
    "collapsed": true
   },
   "outputs": [],
   "source": [
    "aisles=pd.read_csv(\"./aisles.csv\")\n",
    "departments=pd.read_csv('./departments.csv')\n",
    "products=pd.read_csv('./products.csv')"
   ]
  },
  {
   "cell_type": "markdown",
   "metadata": {},
   "source": [
    "A simple lookup function that will locate a product in the store. "
   ]
  },
  {
   "cell_type": "code",
   "execution_count": 33,
   "metadata": {
    "collapsed": true
   },
   "outputs": [],
   "source": [
    "def lookup(prod_name):\n",
    "    aisle_id= products[products['product_name']==prod_name]['aisle_id'].get_values()[0]\n",
    "    department_id=products[products['product_name']==prod_name]['department_id'].get_values()[0]\n",
    "    aisle_name = aisles[aisles['aisle_id']==aisle_id]['aisle'].get_values()[0]\n",
    "    department_name = departments[departments['department_id']==department_id]['department'].get_values()[0]\n",
    "    return aisle_name, department_name"
   ]
  },
  {
   "cell_type": "markdown",
   "metadata": {},
   "source": [
    "A method to locate all the products containing a key word."
   ]
  },
  {
   "cell_type": "code",
   "execution_count": 91,
   "metadata": {
    "collapsed": true
   },
   "outputs": [],
   "source": [
    "def similar(trans):\n",
    "    return products.product_name[ products.product_name.apply(lambda x: trans in x.lower())].get_values() \n",
    "    "
   ]
  },
  {
   "cell_type": "markdown",
   "metadata": {},
   "source": [
    "Method for listening to the user."
   ]
  },
  {
   "cell_type": "code",
   "execution_count": 109,
   "metadata": {
    "collapsed": true
   },
   "outputs": [],
   "source": [
    "def listen():\n",
    "    # obtain audio from the microphone\n",
    "    r = sr.Recognizer()\n",
    "    with sr.Microphone() as source:\n",
    "        print(\"Say something!\")\n",
    "        r.adjust_for_ambient_noise(source)\n",
    "        audio = r.listen(source,timeout=3)\n",
    "    \n",
    "    # recognize speech using google\n",
    "\n",
    "    try:\n",
    "        trans = r.recognize_google(audio)\n",
    "        print(\"Google thinks you said \" +trans)\n",
    "    except sr.UnknownValueError:\n",
    "        print(\"Google could not understand audio\")\n",
    "    except sr.RequestError as e:\n",
    "        print(\"Google error; {0}\".format(e))\n",
    "    \n",
    "    return trans"
   ]
  },
  {
   "cell_type": "markdown",
   "metadata": {},
   "source": [
    "Main method."
   ]
  },
  {
   "cell_type": "code",
   "execution_count": 110,
   "metadata": {},
   "outputs": [],
   "source": [
    "def product_location():\n",
    "    \n",
    "    trans= listen()\n",
    "    similar_products=similar(trans)\n",
    "    for product_name in similar_products:\n",
    "        a,b=lookup(product_name)\n",
    "        message = 'There are ' + product_name +' in the '+b+' department, ' +a+ ' ailse '\n",
    "        print(message)"
   ]
  },
  {
   "cell_type": "markdown",
   "metadata": {},
   "source": [
    "Try it out by running the next line."
   ]
  },
  {
   "cell_type": "code",
   "execution_count": 117,
   "metadata": {},
   "outputs": [
    {
     "name": "stdout",
     "output_type": "stream",
     "text": [
      "Say something!\n",
      "Google thinks you said coffee beans\n",
      "There are Cafe Carmelita Medium Roast Organic Coffee Beans in the beverages department, coffee ailse \n",
      "There are 454 Horse Power Dark Roast Organic Whole Arabica Coffee Beans in the beverages department, coffee ailse \n",
      "There are New Manhattan Whole Coffee Beans in the beverages department, coffee ailse \n",
      "There are Fair Trade Peru Whole Coffee Beans, Dark Roast in the beverages department, coffee ailse \n",
      "There are Organic French Roast Coffee Beans in the beverages department, coffee ailse \n"
     ]
    }
   ],
   "source": [
    "product_location()"
   ]
  },
  {
   "cell_type": "code",
   "execution_count": null,
   "metadata": {
    "collapsed": true
   },
   "outputs": [],
   "source": []
  },
  {
   "cell_type": "code",
   "execution_count": null,
   "metadata": {
    "collapsed": true
   },
   "outputs": [],
   "source": []
  },
  {
   "cell_type": "code",
   "execution_count": null,
   "metadata": {
    "collapsed": true
   },
   "outputs": [],
   "source": []
  },
  {
   "cell_type": "code",
   "execution_count": null,
   "metadata": {
    "collapsed": true
   },
   "outputs": [],
   "source": []
  },
  {
   "cell_type": "code",
   "execution_count": null,
   "metadata": {
    "collapsed": true
   },
   "outputs": [],
   "source": []
  },
  {
   "cell_type": "code",
   "execution_count": null,
   "metadata": {
    "collapsed": true
   },
   "outputs": [],
   "source": []
  },
  {
   "cell_type": "code",
   "execution_count": null,
   "metadata": {
    "collapsed": true
   },
   "outputs": [],
   "source": []
  }
 ],
 "metadata": {
  "kernelspec": {
   "display_name": "Python [conda root]",
   "language": "python",
   "name": "conda-root-py"
  },
  "language_info": {
   "codemirror_mode": {
    "name": "ipython",
    "version": 3
   },
   "file_extension": ".py",
   "mimetype": "text/x-python",
   "name": "python",
   "nbconvert_exporter": "python",
   "pygments_lexer": "ipython3",
   "version": "3.5.2"
  }
 },
 "nbformat": 4,
 "nbformat_minor": 2
}
